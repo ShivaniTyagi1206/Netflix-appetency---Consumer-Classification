{
 "cells": [
  {
   "cell_type": "markdown",
   "metadata": {},
   "source": [
    "# Netflix appetency - Consumer Classification"
   ]
  },
  {
   "cell_type": "markdown",
   "metadata": {},
   "source": [
    "![title](https://i.pcmag.com/imagery/reviews/05cItXL96l4LE9n02WfDR0h-5.fit_scale.size_1028x578.v1582751026.png)\n",
    "\n",
    "\n",
    "## Goal:\n",
    "\n",
    "- Classify consumers according to their appetite to subscribe to Netflix.\n",
    "\n",
    "## Metric:\n",
    "\n",
    "- The metric used is AUC\n",
    "\n",
    "## Data:\n",
    "\n",
    "- train.csv - the training set. it consists of an id column, the customers features, and a target column: target.\n",
    "- test.csv - the test set. it consists of everything in train.csv except target.\n",
    "\n",
    "For reasons of confidentiality, the data is anonymized and augmented."
   ]
  },
  {
   "cell_type": "markdown",
   "metadata": {},
   "source": [
    "## Importing Libraries"
   ]
  },
  {
   "cell_type": "code",
   "execution_count": null,
   "metadata": {},
   "outputs": [],
   "source": [
    "pip install catboost --no-cache-dir"
   ]
  },
  {
   "cell_type": "code",
   "execution_count": 1,
   "metadata": {},
   "outputs": [],
   "source": [
    "import numpy as np\n",
    "import pandas as pd\n",
    "import seaborn as sns\n",
    "sns.set()\n",
    "import matplotlib.pyplot as plt\n",
    "import warnings\n",
    "warnings.filterwarnings('ignore')\n",
    "import datetime\n",
    "from sklearn.preprocessing import LabelEncoder\n",
    "from sklearn.preprocessing import StandardScaler\n",
    "\n",
    "\n",
    "from catboost import CatBoostClassifier"
   ]
  },
  {
   "cell_type": "markdown",
   "metadata": {},
   "source": [
    "## Reading Data"
   ]
  },
  {
   "cell_type": "code",
   "execution_count": 6,
   "metadata": {},
   "outputs": [],
   "source": [
    "train_df = pd.read_csv('D:/D_ST/Git_Profile/Netflix Appentency/Data/train_data.csv.gz', compression= 'gzip')\n",
    "test_df = pd.read_csv('D:/D_ST/Git_Profile/Netflix Appentency/Data/test_data.csv.gz', compression= 'gzip')"
   ]
  },
  {
   "cell_type": "code",
   "execution_count": 7,
   "metadata": {},
   "outputs": [
    {
     "name": "stdout",
     "output_type": "stream",
     "text": [
      "(70000, 509)\n",
      "(30000, 508)\n"
     ]
    },
    {
     "data": {
      "text/html": [
       "<div>\n",
       "<style scoped>\n",
       "    .dataframe tbody tr th:only-of-type {\n",
       "        vertical-align: middle;\n",
       "    }\n",
       "\n",
       "    .dataframe tbody tr th {\n",
       "        vertical-align: top;\n",
       "    }\n",
       "\n",
       "    .dataframe thead th {\n",
       "        text-align: right;\n",
       "    }\n",
       "</style>\n",
       "<table border=\"1\" class=\"dataframe\">\n",
       "  <thead>\n",
       "    <tr style=\"text-align: right;\">\n",
       "      <th></th>\n",
       "      <th>id</th>\n",
       "      <th>target</th>\n",
       "      <th>feature_0</th>\n",
       "      <th>feature_1</th>\n",
       "      <th>feature_2</th>\n",
       "      <th>feature_3</th>\n",
       "      <th>feature_4</th>\n",
       "      <th>feature_5</th>\n",
       "      <th>feature_6</th>\n",
       "      <th>feature_7</th>\n",
       "      <th>...</th>\n",
       "      <th>feature_497</th>\n",
       "      <th>feature_498</th>\n",
       "      <th>feature_499</th>\n",
       "      <th>feature_500</th>\n",
       "      <th>feature_501</th>\n",
       "      <th>feature_502</th>\n",
       "      <th>feature_503</th>\n",
       "      <th>feature_504</th>\n",
       "      <th>feature_505</th>\n",
       "      <th>feature_506</th>\n",
       "    </tr>\n",
       "  </thead>\n",
       "  <tbody>\n",
       "    <tr>\n",
       "      <th>0</th>\n",
       "      <td>0</td>\n",
       "      <td>0</td>\n",
       "      <td>C0</td>\n",
       "      <td>C0</td>\n",
       "      <td>C1</td>\n",
       "      <td>C5</td>\n",
       "      <td>C11</td>\n",
       "      <td>37.56</td>\n",
       "      <td>54.756667</td>\n",
       "      <td>54.756667</td>\n",
       "      <td>...</td>\n",
       "      <td>0</td>\n",
       "      <td>0</td>\n",
       "      <td>0</td>\n",
       "      <td>0</td>\n",
       "      <td>0</td>\n",
       "      <td>0</td>\n",
       "      <td>0</td>\n",
       "      <td>0</td>\n",
       "      <td>0</td>\n",
       "      <td>0</td>\n",
       "    </tr>\n",
       "    <tr>\n",
       "      <th>1</th>\n",
       "      <td>1</td>\n",
       "      <td>0</td>\n",
       "      <td>C0</td>\n",
       "      <td>C0</td>\n",
       "      <td>C3</td>\n",
       "      <td>C5</td>\n",
       "      <td>C1</td>\n",
       "      <td>NaN</td>\n",
       "      <td>NaN</td>\n",
       "      <td>NaN</td>\n",
       "      <td>...</td>\n",
       "      <td>0</td>\n",
       "      <td>0</td>\n",
       "      <td>0</td>\n",
       "      <td>0</td>\n",
       "      <td>0</td>\n",
       "      <td>0</td>\n",
       "      <td>0</td>\n",
       "      <td>0</td>\n",
       "      <td>0</td>\n",
       "      <td>0</td>\n",
       "    </tr>\n",
       "    <tr>\n",
       "      <th>2</th>\n",
       "      <td>2</td>\n",
       "      <td>0</td>\n",
       "      <td>C0</td>\n",
       "      <td>C0</td>\n",
       "      <td>C3</td>\n",
       "      <td>C5</td>\n",
       "      <td>C2</td>\n",
       "      <td>NaN</td>\n",
       "      <td>NaN</td>\n",
       "      <td>NaN</td>\n",
       "      <td>...</td>\n",
       "      <td>0</td>\n",
       "      <td>0</td>\n",
       "      <td>0</td>\n",
       "      <td>0</td>\n",
       "      <td>0</td>\n",
       "      <td>0</td>\n",
       "      <td>0</td>\n",
       "      <td>0</td>\n",
       "      <td>0</td>\n",
       "      <td>0</td>\n",
       "    </tr>\n",
       "    <tr>\n",
       "      <th>3</th>\n",
       "      <td>3</td>\n",
       "      <td>0</td>\n",
       "      <td>C0</td>\n",
       "      <td>C0</td>\n",
       "      <td>C1</td>\n",
       "      <td>C5</td>\n",
       "      <td>C1</td>\n",
       "      <td>NaN</td>\n",
       "      <td>NaN</td>\n",
       "      <td>NaN</td>\n",
       "      <td>...</td>\n",
       "      <td>0</td>\n",
       "      <td>0</td>\n",
       "      <td>0</td>\n",
       "      <td>0</td>\n",
       "      <td>0</td>\n",
       "      <td>0</td>\n",
       "      <td>0</td>\n",
       "      <td>0</td>\n",
       "      <td>0</td>\n",
       "      <td>0</td>\n",
       "    </tr>\n",
       "    <tr>\n",
       "      <th>4</th>\n",
       "      <td>4</td>\n",
       "      <td>1</td>\n",
       "      <td>C0</td>\n",
       "      <td>C0</td>\n",
       "      <td>C3</td>\n",
       "      <td>C3</td>\n",
       "      <td>C11</td>\n",
       "      <td>37.48</td>\n",
       "      <td>37.480000</td>\n",
       "      <td>37.161333</td>\n",
       "      <td>...</td>\n",
       "      <td>0</td>\n",
       "      <td>0</td>\n",
       "      <td>0</td>\n",
       "      <td>0</td>\n",
       "      <td>0</td>\n",
       "      <td>0</td>\n",
       "      <td>0</td>\n",
       "      <td>0</td>\n",
       "      <td>0</td>\n",
       "      <td>0</td>\n",
       "    </tr>\n",
       "  </tbody>\n",
       "</table>\n",
       "<p>5 rows × 509 columns</p>\n",
       "</div>"
      ],
      "text/plain": [
       "   id  target feature_0 feature_1 feature_2 feature_3 feature_4  feature_5  \\\n",
       "0   0       0        C0        C0        C1        C5       C11      37.56   \n",
       "1   1       0        C0        C0        C3        C5        C1        NaN   \n",
       "2   2       0        C0        C0        C3        C5        C2        NaN   \n",
       "3   3       0        C0        C0        C1        C5        C1        NaN   \n",
       "4   4       1        C0        C0        C3        C3       C11      37.48   \n",
       "\n",
       "   feature_6  feature_7  ...  feature_497  feature_498  feature_499  \\\n",
       "0  54.756667  54.756667  ...            0            0            0   \n",
       "1        NaN        NaN  ...            0            0            0   \n",
       "2        NaN        NaN  ...            0            0            0   \n",
       "3        NaN        NaN  ...            0            0            0   \n",
       "4  37.480000  37.161333  ...            0            0            0   \n",
       "\n",
       "   feature_500  feature_501  feature_502  feature_503  feature_504  \\\n",
       "0            0            0            0            0            0   \n",
       "1            0            0            0            0            0   \n",
       "2            0            0            0            0            0   \n",
       "3            0            0            0            0            0   \n",
       "4            0            0            0            0            0   \n",
       "\n",
       "  feature_505 feature_506  \n",
       "0           0           0  \n",
       "1           0           0  \n",
       "2           0           0  \n",
       "3           0           0  \n",
       "4           0           0  \n",
       "\n",
       "[5 rows x 509 columns]"
      ]
     },
     "execution_count": 7,
     "metadata": {},
     "output_type": "execute_result"
    }
   ],
   "source": [
    "print(train_df.shape)\n",
    "print(test_df.shape)\n",
    "train_df.head(5)"
   ]
  },
  {
   "cell_type": "code",
   "execution_count": 8,
   "metadata": {},
   "outputs": [
    {
     "data": {
      "text/html": [
       "<div>\n",
       "<style scoped>\n",
       "    .dataframe tbody tr th:only-of-type {\n",
       "        vertical-align: middle;\n",
       "    }\n",
       "\n",
       "    .dataframe tbody tr th {\n",
       "        vertical-align: top;\n",
       "    }\n",
       "\n",
       "    .dataframe thead th {\n",
       "        text-align: right;\n",
       "    }\n",
       "</style>\n",
       "<table border=\"1\" class=\"dataframe\">\n",
       "  <thead>\n",
       "    <tr style=\"text-align: right;\">\n",
       "      <th></th>\n",
       "      <th>id</th>\n",
       "      <th>target</th>\n",
       "      <th>feature_5</th>\n",
       "      <th>feature_6</th>\n",
       "      <th>feature_7</th>\n",
       "      <th>feature_8</th>\n",
       "      <th>feature_9</th>\n",
       "      <th>feature_10</th>\n",
       "      <th>feature_11</th>\n",
       "      <th>feature_12</th>\n",
       "      <th>...</th>\n",
       "      <th>feature_497</th>\n",
       "      <th>feature_498</th>\n",
       "      <th>feature_499</th>\n",
       "      <th>feature_500</th>\n",
       "      <th>feature_501</th>\n",
       "      <th>feature_502</th>\n",
       "      <th>feature_503</th>\n",
       "      <th>feature_504</th>\n",
       "      <th>feature_505</th>\n",
       "      <th>feature_506</th>\n",
       "    </tr>\n",
       "  </thead>\n",
       "  <tbody>\n",
       "    <tr>\n",
       "      <th>count</th>\n",
       "      <td>70000.000000</td>\n",
       "      <td>70000.000000</td>\n",
       "      <td>25424.000000</td>\n",
       "      <td>26389.000000</td>\n",
       "      <td>27792.000000</td>\n",
       "      <td>25424.000000</td>\n",
       "      <td>26389.000000</td>\n",
       "      <td>27792.000000</td>\n",
       "      <td>25424.000000</td>\n",
       "      <td>26389.000000</td>\n",
       "      <td>...</td>\n",
       "      <td>70000.000000</td>\n",
       "      <td>70000.0</td>\n",
       "      <td>70000.000000</td>\n",
       "      <td>70000.0</td>\n",
       "      <td>70000.000000</td>\n",
       "      <td>70000.0</td>\n",
       "      <td>70000.000000</td>\n",
       "      <td>70000.000000</td>\n",
       "      <td>70000.0</td>\n",
       "      <td>70000.000000</td>\n",
       "    </tr>\n",
       "    <tr>\n",
       "      <th>mean</th>\n",
       "      <td>50025.281314</td>\n",
       "      <td>0.298186</td>\n",
       "      <td>40.124969</td>\n",
       "      <td>39.975888</td>\n",
       "      <td>38.937569</td>\n",
       "      <td>32.120109</td>\n",
       "      <td>31.533970</td>\n",
       "      <td>30.517150</td>\n",
       "      <td>2.891956</td>\n",
       "      <td>2.847829</td>\n",
       "      <td>...</td>\n",
       "      <td>-3.138300</td>\n",
       "      <td>0.0</td>\n",
       "      <td>-3.138300</td>\n",
       "      <td>0.0</td>\n",
       "      <td>3.138300</td>\n",
       "      <td>0.0</td>\n",
       "      <td>3.138300</td>\n",
       "      <td>-3.138300</td>\n",
       "      <td>0.0</td>\n",
       "      <td>3.138300</td>\n",
       "    </tr>\n",
       "    <tr>\n",
       "      <th>std</th>\n",
       "      <td>28878.675532</td>\n",
       "      <td>0.457465</td>\n",
       "      <td>21.415242</td>\n",
       "      <td>20.591512</td>\n",
       "      <td>20.364727</td>\n",
       "      <td>13.766195</td>\n",
       "      <td>13.330736</td>\n",
       "      <td>13.692785</td>\n",
       "      <td>2.294987</td>\n",
       "      <td>2.267976</td>\n",
       "      <td>...</td>\n",
       "      <td>17.344944</td>\n",
       "      <td>0.0</td>\n",
       "      <td>17.344944</td>\n",
       "      <td>0.0</td>\n",
       "      <td>17.344944</td>\n",
       "      <td>0.0</td>\n",
       "      <td>17.344944</td>\n",
       "      <td>17.344944</td>\n",
       "      <td>0.0</td>\n",
       "      <td>17.344944</td>\n",
       "    </tr>\n",
       "    <tr>\n",
       "      <th>min</th>\n",
       "      <td>0.000000</td>\n",
       "      <td>0.000000</td>\n",
       "      <td>-217.460000</td>\n",
       "      <td>-89.690000</td>\n",
       "      <td>-66.497000</td>\n",
       "      <td>-219.180000</td>\n",
       "      <td>-89.690000</td>\n",
       "      <td>-49.390000</td>\n",
       "      <td>-30.850000</td>\n",
       "      <td>-19.813333</td>\n",
       "      <td>...</td>\n",
       "      <td>-99.000000</td>\n",
       "      <td>0.0</td>\n",
       "      <td>-99.000000</td>\n",
       "      <td>0.0</td>\n",
       "      <td>0.000000</td>\n",
       "      <td>0.0</td>\n",
       "      <td>0.000000</td>\n",
       "      <td>-99.000000</td>\n",
       "      <td>0.0</td>\n",
       "      <td>0.000000</td>\n",
       "    </tr>\n",
       "    <tr>\n",
       "      <th>25%</th>\n",
       "      <td>24999.750000</td>\n",
       "      <td>0.000000</td>\n",
       "      <td>32.470000</td>\n",
       "      <td>32.470000</td>\n",
       "      <td>31.923333</td>\n",
       "      <td>30.750000</td>\n",
       "      <td>28.600000</td>\n",
       "      <td>27.215000</td>\n",
       "      <td>2.500000</td>\n",
       "      <td>2.500000</td>\n",
       "      <td>...</td>\n",
       "      <td>0.000000</td>\n",
       "      <td>0.0</td>\n",
       "      <td>0.000000</td>\n",
       "      <td>0.0</td>\n",
       "      <td>0.000000</td>\n",
       "      <td>0.0</td>\n",
       "      <td>0.000000</td>\n",
       "      <td>0.000000</td>\n",
       "      <td>0.0</td>\n",
       "      <td>0.000000</td>\n",
       "    </tr>\n",
       "    <tr>\n",
       "      <th>50%</th>\n",
       "      <td>50030.500000</td>\n",
       "      <td>0.000000</td>\n",
       "      <td>37.480000</td>\n",
       "      <td>37.560000</td>\n",
       "      <td>37.030667</td>\n",
       "      <td>34.160000</td>\n",
       "      <td>33.320000</td>\n",
       "      <td>31.710000</td>\n",
       "      <td>2.500000</td>\n",
       "      <td>2.500000</td>\n",
       "      <td>...</td>\n",
       "      <td>0.000000</td>\n",
       "      <td>0.0</td>\n",
       "      <td>0.000000</td>\n",
       "      <td>0.0</td>\n",
       "      <td>0.000000</td>\n",
       "      <td>0.0</td>\n",
       "      <td>0.000000</td>\n",
       "      <td>0.000000</td>\n",
       "      <td>0.0</td>\n",
       "      <td>0.000000</td>\n",
       "    </tr>\n",
       "    <tr>\n",
       "      <th>75%</th>\n",
       "      <td>75027.250000</td>\n",
       "      <td>1.000000</td>\n",
       "      <td>48.062750</td>\n",
       "      <td>48.490000</td>\n",
       "      <td>47.726458</td>\n",
       "      <td>35.830000</td>\n",
       "      <td>35.830000</td>\n",
       "      <td>35.830000</td>\n",
       "      <td>2.500000</td>\n",
       "      <td>2.500000</td>\n",
       "      <td>...</td>\n",
       "      <td>0.000000</td>\n",
       "      <td>0.0</td>\n",
       "      <td>0.000000</td>\n",
       "      <td>0.0</td>\n",
       "      <td>0.000000</td>\n",
       "      <td>0.0</td>\n",
       "      <td>0.000000</td>\n",
       "      <td>0.000000</td>\n",
       "      <td>0.0</td>\n",
       "      <td>0.000000</td>\n",
       "    </tr>\n",
       "    <tr>\n",
       "      <th>max</th>\n",
       "      <td>99999.000000</td>\n",
       "      <td>1.000000</td>\n",
       "      <td>403.880000</td>\n",
       "      <td>639.756667</td>\n",
       "      <td>511.091667</td>\n",
       "      <td>148.360000</td>\n",
       "      <td>136.030000</td>\n",
       "      <td>136.030000</td>\n",
       "      <td>47.000000</td>\n",
       "      <td>53.556667</td>\n",
       "      <td>...</td>\n",
       "      <td>0.000000</td>\n",
       "      <td>0.0</td>\n",
       "      <td>0.000000</td>\n",
       "      <td>0.0</td>\n",
       "      <td>99.000000</td>\n",
       "      <td>0.0</td>\n",
       "      <td>99.000000</td>\n",
       "      <td>0.000000</td>\n",
       "      <td>0.0</td>\n",
       "      <td>99.000000</td>\n",
       "    </tr>\n",
       "  </tbody>\n",
       "</table>\n",
       "<p>8 rows × 417 columns</p>\n",
       "</div>"
      ],
      "text/plain": [
       "                 id        target     feature_5     feature_6     feature_7  \\\n",
       "count  70000.000000  70000.000000  25424.000000  26389.000000  27792.000000   \n",
       "mean   50025.281314      0.298186     40.124969     39.975888     38.937569   \n",
       "std    28878.675532      0.457465     21.415242     20.591512     20.364727   \n",
       "min        0.000000      0.000000   -217.460000    -89.690000    -66.497000   \n",
       "25%    24999.750000      0.000000     32.470000     32.470000     31.923333   \n",
       "50%    50030.500000      0.000000     37.480000     37.560000     37.030667   \n",
       "75%    75027.250000      1.000000     48.062750     48.490000     47.726458   \n",
       "max    99999.000000      1.000000    403.880000    639.756667    511.091667   \n",
       "\n",
       "          feature_8     feature_9    feature_10    feature_11    feature_12  \\\n",
       "count  25424.000000  26389.000000  27792.000000  25424.000000  26389.000000   \n",
       "mean      32.120109     31.533970     30.517150      2.891956      2.847829   \n",
       "std       13.766195     13.330736     13.692785      2.294987      2.267976   \n",
       "min     -219.180000    -89.690000    -49.390000    -30.850000    -19.813333   \n",
       "25%       30.750000     28.600000     27.215000      2.500000      2.500000   \n",
       "50%       34.160000     33.320000     31.710000      2.500000      2.500000   \n",
       "75%       35.830000     35.830000     35.830000      2.500000      2.500000   \n",
       "max      148.360000    136.030000    136.030000     47.000000     53.556667   \n",
       "\n",
       "       ...   feature_497  feature_498   feature_499  feature_500  \\\n",
       "count  ...  70000.000000      70000.0  70000.000000      70000.0   \n",
       "mean   ...     -3.138300          0.0     -3.138300          0.0   \n",
       "std    ...     17.344944          0.0     17.344944          0.0   \n",
       "min    ...    -99.000000          0.0    -99.000000          0.0   \n",
       "25%    ...      0.000000          0.0      0.000000          0.0   \n",
       "50%    ...      0.000000          0.0      0.000000          0.0   \n",
       "75%    ...      0.000000          0.0      0.000000          0.0   \n",
       "max    ...      0.000000          0.0      0.000000          0.0   \n",
       "\n",
       "        feature_501  feature_502   feature_503   feature_504  feature_505  \\\n",
       "count  70000.000000      70000.0  70000.000000  70000.000000      70000.0   \n",
       "mean       3.138300          0.0      3.138300     -3.138300          0.0   \n",
       "std       17.344944          0.0     17.344944     17.344944          0.0   \n",
       "min        0.000000          0.0      0.000000    -99.000000          0.0   \n",
       "25%        0.000000          0.0      0.000000      0.000000          0.0   \n",
       "50%        0.000000          0.0      0.000000      0.000000          0.0   \n",
       "75%        0.000000          0.0      0.000000      0.000000          0.0   \n",
       "max       99.000000          0.0     99.000000      0.000000          0.0   \n",
       "\n",
       "        feature_506  \n",
       "count  70000.000000  \n",
       "mean       3.138300  \n",
       "std       17.344944  \n",
       "min        0.000000  \n",
       "25%        0.000000  \n",
       "50%        0.000000  \n",
       "75%        0.000000  \n",
       "max       99.000000  \n",
       "\n",
       "[8 rows x 417 columns]"
      ]
     },
     "execution_count": 8,
     "metadata": {},
     "output_type": "execute_result"
    }
   ],
   "source": [
    "train_df.describe()"
   ]
  },
  {
   "cell_type": "markdown",
   "metadata": {},
   "source": [
    "- Feature_500, Feature_502, Feature_505 have min max mean everything as 0.\n",
    "- Feature_497, Feature_499, Feature_504 oddly sahre same min, mean and Standard deviation.\n",
    "- Some columns has only one categorical variable.\n",
    "- Need to take care of missing values."
   ]
  },
  {
   "cell_type": "markdown",
   "metadata": {},
   "source": [
    "## Handeling Missing Values"
   ]
  },
  {
   "cell_type": "code",
   "execution_count": 9,
   "metadata": {},
   "outputs": [],
   "source": [
    "#Creating Function to calculate % of missing vazlues in each column\n",
    "def find_missings_percnt(df):\n",
    "    if df.isna().sum().sum()>0:\n",
    "        ColumnName , PercentMissing = list(), list()\n",
    "        for column in df.columns:\n",
    "            if df[column].isnull().sum():\n",
    "                ColumnName.append(column)\n",
    "                PercentMissing.append((df[column].isnull().sum()/len(df[column])*100))\n",
    "        missing_percent_df = pd.DataFrame({'Feature':ColumnName, 'PercentMissing':PercentMissing})\n",
    "        return missing_percent_df.sort_values(by = 'PercentMissing', ascending = False)\n",
    "    else:\n",
    "        txt = \"No Feature has missing Values\" \n",
    "        return print(txt)"
   ]
  },
  {
   "cell_type": "code",
   "execution_count": 10,
   "metadata": {},
   "outputs": [
    {
     "data": {
      "text/html": [
       "<div>\n",
       "<style scoped>\n",
       "    .dataframe tbody tr th:only-of-type {\n",
       "        vertical-align: middle;\n",
       "    }\n",
       "\n",
       "    .dataframe tbody tr th {\n",
       "        vertical-align: top;\n",
       "    }\n",
       "\n",
       "    .dataframe thead th {\n",
       "        text-align: right;\n",
       "    }\n",
       "</style>\n",
       "<table border=\"1\" class=\"dataframe\">\n",
       "  <thead>\n",
       "    <tr style=\"text-align: right;\">\n",
       "      <th></th>\n",
       "      <th>Feature</th>\n",
       "      <th>PercentMissing</th>\n",
       "    </tr>\n",
       "  </thead>\n",
       "  <tbody>\n",
       "    <tr>\n",
       "      <th>52</th>\n",
       "      <td>feature_193</td>\n",
       "      <td>100.00</td>\n",
       "    </tr>\n",
       "    <tr>\n",
       "      <th>55</th>\n",
       "      <td>feature_196</td>\n",
       "      <td>100.00</td>\n",
       "    </tr>\n",
       "    <tr>\n",
       "      <th>56</th>\n",
       "      <td>feature_197</td>\n",
       "      <td>100.00</td>\n",
       "    </tr>\n",
       "    <tr>\n",
       "      <th>57</th>\n",
       "      <td>feature_198</td>\n",
       "      <td>100.00</td>\n",
       "    </tr>\n",
       "    <tr>\n",
       "      <th>21</th>\n",
       "      <td>feature_83</td>\n",
       "      <td>98.32</td>\n",
       "    </tr>\n",
       "  </tbody>\n",
       "</table>\n",
       "</div>"
      ],
      "text/plain": [
       "        Feature  PercentMissing\n",
       "52  feature_193          100.00\n",
       "55  feature_196          100.00\n",
       "56  feature_197          100.00\n",
       "57  feature_198          100.00\n",
       "21   feature_83           98.32"
      ]
     },
     "execution_count": 10,
     "metadata": {},
     "output_type": "execute_result"
    }
   ],
   "source": [
    "# Finding missing value for train data\n",
    "train_Percent_Missings_df=find_missings_percnt(train_df)\n",
    "train_Percent_Missings_df.head(5)"
   ]
  },
  {
   "cell_type": "code",
   "execution_count": 12,
   "metadata": {},
   "outputs": [
    {
     "data": {
      "text/html": [
       "<div>\n",
       "<style scoped>\n",
       "    .dataframe tbody tr th:only-of-type {\n",
       "        vertical-align: middle;\n",
       "    }\n",
       "\n",
       "    .dataframe tbody tr th {\n",
       "        vertical-align: top;\n",
       "    }\n",
       "\n",
       "    .dataframe thead th {\n",
       "        text-align: right;\n",
       "    }\n",
       "</style>\n",
       "<table border=\"1\" class=\"dataframe\">\n",
       "  <thead>\n",
       "    <tr style=\"text-align: right;\">\n",
       "      <th></th>\n",
       "      <th>Feature</th>\n",
       "      <th>PercentMissing</th>\n",
       "    </tr>\n",
       "  </thead>\n",
       "  <tbody>\n",
       "    <tr>\n",
       "      <th>52</th>\n",
       "      <td>feature_193</td>\n",
       "      <td>100.00</td>\n",
       "    </tr>\n",
       "    <tr>\n",
       "      <th>55</th>\n",
       "      <td>feature_196</td>\n",
       "      <td>100.00</td>\n",
       "    </tr>\n",
       "    <tr>\n",
       "      <th>56</th>\n",
       "      <td>feature_197</td>\n",
       "      <td>100.00</td>\n",
       "    </tr>\n",
       "    <tr>\n",
       "      <th>57</th>\n",
       "      <td>feature_198</td>\n",
       "      <td>100.00</td>\n",
       "    </tr>\n",
       "    <tr>\n",
       "      <th>21</th>\n",
       "      <td>feature_83</td>\n",
       "      <td>98.29</td>\n",
       "    </tr>\n",
       "  </tbody>\n",
       "</table>\n",
       "</div>"
      ],
      "text/plain": [
       "        Feature  PercentMissing\n",
       "52  feature_193          100.00\n",
       "55  feature_196          100.00\n",
       "56  feature_197          100.00\n",
       "57  feature_198          100.00\n",
       "21   feature_83           98.29"
      ]
     },
     "execution_count": 12,
     "metadata": {},
     "output_type": "execute_result"
    }
   ],
   "source": [
    "# Finding missing value for test data\n",
    "test_Percent_Missings_df=find_missings_percnt(test_df)\n",
    "test_Percent_Missings_df.head(5)"
   ]
  },
  {
   "cell_type": "markdown",
   "metadata": {},
   "source": [
    " Distribution of Missing Values"
   ]
  },
  {
   "cell_type": "code",
   "execution_count": 11,
   "metadata": {},
   "outputs": [
    {
     "data": {
      "text/plain": [
       "Text(0, 0.5, 'The number of features')"
      ]
     },
     "execution_count": 11,
     "metadata": {},
     "output_type": "execute_result"
    },
    {
     "data": {
      "image/png": "[encoded data removed]",
      "text/plain": [
       "<Figure size 720x360 with 1 Axes>"
      ]
     },
     "metadata": {},
     "output_type": "display_data"
    }
   ],
   "source": [
    "# Plotting missing value for train data\n",
    "plt.figure(figsize=(10,5))\n",
    "sns.histplot(x=train_Percent_Missings_df.PercentMissing).set_title('Missing Values Distribution in train data',size=20)\n",
    "plt.ylabel('The number of features')"
   ]
  },
  {
   "cell_type": "code",
   "execution_count": 13,
   "metadata": {},
   "outputs": [
    {
     "data": {
      "text/plain": [
       "Text(0, 0.5, 'The number of features')"
      ]
     },
     "execution_count": 13,
     "metadata": {},
     "output_type": "execute_result"
    },
    {
     "data": {
      "image/png": "[encoded data removed]",
      "text/plain": [
       "<Figure size 720x360 with 1 Axes>"
      ]
     },
     "metadata": {},
     "output_type": "display_data"
    }
   ],
   "source": [
    "# Plotting missing value for test data\n",
    "plt.figure(figsize=(10,5))\n",
    "sns.histplot(x=test_Percent_Missings_df.PercentMissing).set_title('Missing Values Distribution in test data',size=20)\n",
    "plt.ylabel('The number of features')"
   ]
  },
  {
   "cell_type": "markdown",
   "metadata": {},
   "source": [
    " Dropping Featurees with more tha 25% missing value"
   ]
  },
  {
   "cell_type": "code",
   "execution_count": 14,
   "metadata": {},
   "outputs": [],
   "source": [
    "#Get columns with more than 25% missing values\n",
    "Missings_more_than_25_train = train_Percent_Missings_df[train_Percent_Missings_df.PercentMissing>25]\n",
    "Missings_more_than_25_test = test_Percent_Missings_df[test_Percent_Missings_df.PercentMissing>25]\n",
    "\n",
    "#Drop from train and test \n",
    "train_df = train_df.drop(list(Missings_more_than_25_train.Feature), axis=1)\n",
    "test_df=test_df.drop(list(Missings_more_than_25_test.Feature),axis=1)"
   ]
  },
  {
   "cell_type": "code",
   "execution_count": 15,
   "metadata": {},
   "outputs": [
    {
     "name": "stdout",
     "output_type": "stream",
     "text": [
      "(70000, 482)\n",
      "(30000, 481)\n"
     ]
    }
   ],
   "source": [
    "print(train_df.shape)\n",
    "print(test_df.shape)"
   ]
  },
  {
   "cell_type": "markdown",
   "metadata": {},
   "source": [
    " Numerical vs Categorical Features"
   ]
  },
  {
   "cell_type": "code",
   "execution_count": 16,
   "metadata": {},
   "outputs": [
    {
     "name": "stdout",
     "output_type": "stream",
     "text": [
      "393\n",
      "87\n"
     ]
    }
   ],
   "source": [
    "#Numeric\n",
    "Num_Features = train_df.columns[train_df.dtypes !='object'].values[2:]\n",
    "\n",
    "#Categorical\n",
    "Cat_Features = train_df.columns[train_df.dtypes =='object'].values\n",
    "print(len(Num_Features))\n",
    "print(len(Cat_Features))"
   ]
  },
  {
   "cell_type": "code",
   "execution_count": 17,
   "metadata": {},
   "outputs": [
    {
     "data": {
      "image/png": "[encoded data removed]",
      "text/plain": [
       "<Figure size 720x360 with 1 Axes>"
      ]
     },
     "metadata": {},
     "output_type": "display_data"
    }
   ],
   "source": [
    "#Viewing the distribution using Pie chart\n",
    "pichrt = [len(Cat_Features),len(Num_Features)]\n",
    "colors = sns.color_palette('coolwarm')\n",
    "plt.figure(figsize=(10,5))\n",
    "plt.title('The percentage of numeric and categorical features',size=15)\n",
    "plt.pie(pichrt, colors = colors, labels=['Categorical','Numeric'] ,autopct = '%0.0f%%')\n",
    "plt.show()"
   ]
  },
  {
   "cell_type": "markdown",
   "metadata": {},
   "source": [
    "## Replacing Missing Values"
   ]
  },
  {
   "cell_type": "code",
   "execution_count": 18,
   "metadata": {},
   "outputs": [],
   "source": [
    "#Replacing Categorical Variables with Mode\n",
    "def get_mode(feature,df):\n",
    "    return df[feature].mode()[0]\n",
    "\n",
    "for col in Cat_Features:\n",
    "    train_df[col].fillna(get_mode(col,train_df),inplace=True)\n",
    "    test_df[col].fillna(get_mode(col,test_df),inplace=True)"
   ]
  },
  {
   "cell_type": "code",
   "execution_count": 19,
   "metadata": {},
   "outputs": [],
   "source": [
    "#Replacing Numerical variables with median\n",
    "for col in Num_Features:\n",
    "    train_df[col].fillna(train_df[col].median(),inplace=True)\n",
    "    test_df[col].fillna(test_df[col].median(),inplace=True)"
   ]
  },
  {
   "cell_type": "code",
   "execution_count": null,
   "metadata": {},
   "outputs": [],
   "source": [
    "train_df.info()"
   ]
  },
  {
   "cell_type": "markdown",
   "metadata": {},
   "source": [
    "## Handelling Date Features"
   ]
  },
  {
   "cell_type": "code",
   "execution_count": 20,
   "metadata": {},
   "outputs": [
    {
     "data": {
      "text/html": [
       "<div>\n",
       "<style scoped>\n",
       "    .dataframe tbody tr th:only-of-type {\n",
       "        vertical-align: middle;\n",
       "    }\n",
       "\n",
       "    .dataframe tbody tr th {\n",
       "        vertical-align: top;\n",
       "    }\n",
       "\n",
       "    .dataframe thead th {\n",
       "        text-align: right;\n",
       "    }\n",
       "</style>\n",
       "<table border=\"1\" class=\"dataframe\">\n",
       "  <thead>\n",
       "    <tr style=\"text-align: right;\">\n",
       "      <th></th>\n",
       "      <th>feature_191</th>\n",
       "      <th>feature_192</th>\n",
       "      <th>feature_199</th>\n",
       "      <th>feature_200</th>\n",
       "      <th>feature_201</th>\n",
       "    </tr>\n",
       "  </thead>\n",
       "  <tbody>\n",
       "    <tr>\n",
       "      <th>0</th>\n",
       "      <td>11/10/2017</td>\n",
       "      <td>11/10/2017</td>\n",
       "      <td>11/10/2017</td>\n",
       "      <td>17/01/2016</td>\n",
       "      <td>11/10/2017</td>\n",
       "    </tr>\n",
       "    <tr>\n",
       "      <th>1</th>\n",
       "      <td>25/03/2015</td>\n",
       "      <td>25/03/2015</td>\n",
       "      <td>02/04/2017</td>\n",
       "      <td>25/03/2015</td>\n",
       "      <td>25/03/2015</td>\n",
       "    </tr>\n",
       "    <tr>\n",
       "      <th>2</th>\n",
       "      <td>27/01/2015</td>\n",
       "      <td>27/01/2015</td>\n",
       "      <td>24/03/2016</td>\n",
       "      <td>27/01/2015</td>\n",
       "      <td>27/01/2015</td>\n",
       "    </tr>\n",
       "    <tr>\n",
       "      <th>3</th>\n",
       "      <td>05/02/2014</td>\n",
       "      <td>01/04/2014</td>\n",
       "      <td>01/04/2014</td>\n",
       "      <td>01/04/2014</td>\n",
       "      <td>01/04/2014</td>\n",
       "    </tr>\n",
       "    <tr>\n",
       "      <th>4</th>\n",
       "      <td>20/07/2009</td>\n",
       "      <td>10/09/2013</td>\n",
       "      <td>10/09/2013</td>\n",
       "      <td>24/01/2016</td>\n",
       "      <td>10/09/2013</td>\n",
       "    </tr>\n",
       "    <tr>\n",
       "      <th>...</th>\n",
       "      <td>...</td>\n",
       "      <td>...</td>\n",
       "      <td>...</td>\n",
       "      <td>...</td>\n",
       "      <td>...</td>\n",
       "    </tr>\n",
       "    <tr>\n",
       "      <th>69995</th>\n",
       "      <td>27/09/2010</td>\n",
       "      <td>01/02/2014</td>\n",
       "      <td>01/02/2014</td>\n",
       "      <td>14/02/2014</td>\n",
       "      <td>01/02/2014</td>\n",
       "    </tr>\n",
       "    <tr>\n",
       "      <th>69996</th>\n",
       "      <td>19/09/2016</td>\n",
       "      <td>19/09/2016</td>\n",
       "      <td>19/09/2016</td>\n",
       "      <td>19/09/2016</td>\n",
       "      <td>19/09/2016</td>\n",
       "    </tr>\n",
       "    <tr>\n",
       "      <th>69997</th>\n",
       "      <td>14/09/2005</td>\n",
       "      <td>25/07/2015</td>\n",
       "      <td>25/07/2015</td>\n",
       "      <td>09/04/2016</td>\n",
       "      <td>25/07/2015</td>\n",
       "    </tr>\n",
       "    <tr>\n",
       "      <th>69998</th>\n",
       "      <td>29/11/2017</td>\n",
       "      <td>29/11/2017</td>\n",
       "      <td>29/11/2017</td>\n",
       "      <td>17/01/2016</td>\n",
       "      <td>29/11/2017</td>\n",
       "    </tr>\n",
       "    <tr>\n",
       "      <th>69999</th>\n",
       "      <td>23/01/2018</td>\n",
       "      <td>23/01/2018</td>\n",
       "      <td>23/01/2018</td>\n",
       "      <td>17/01/2016</td>\n",
       "      <td>23/01/2018</td>\n",
       "    </tr>\n",
       "  </tbody>\n",
       "</table>\n",
       "<p>70000 rows × 5 columns</p>\n",
       "</div>"
      ],
      "text/plain": [
       "      feature_191 feature_192 feature_199 feature_200 feature_201\n",
       "0      11/10/2017  11/10/2017  11/10/2017  17/01/2016  11/10/2017\n",
       "1      25/03/2015  25/03/2015  02/04/2017  25/03/2015  25/03/2015\n",
       "2      27/01/2015  27/01/2015  24/03/2016  27/01/2015  27/01/2015\n",
       "3      05/02/2014  01/04/2014  01/04/2014  01/04/2014  01/04/2014\n",
       "4      20/07/2009  10/09/2013  10/09/2013  24/01/2016  10/09/2013\n",
       "...           ...         ...         ...         ...         ...\n",
       "69995  27/09/2010  01/02/2014  01/02/2014  14/02/2014  01/02/2014\n",
       "69996  19/09/2016  19/09/2016  19/09/2016  19/09/2016  19/09/2016\n",
       "69997  14/09/2005  25/07/2015  25/07/2015  09/04/2016  25/07/2015\n",
       "69998  29/11/2017  29/11/2017  29/11/2017  17/01/2016  29/11/2017\n",
       "69999  23/01/2018  23/01/2018  23/01/2018  17/01/2016  23/01/2018\n",
       "\n",
       "[70000 rows x 5 columns]"
      ]
     },
     "execution_count": 20,
     "metadata": {},
     "output_type": "execute_result"
    }
   ],
   "source": [
    "# Find columns that contain date objects\n",
    "mask = train_df[Cat_Features][:10].astype(str).apply(lambda x : x.str.match('(\\d{2,4}(-|\\/|\\\\|\\.| )\\d{2}(-|\\/|\\\\|\\.| )\\d{2,4})+').any())\n",
    "date_Features=train_df[Cat_Features].loc[:,mask]\n",
    "\n",
    "date_Features"
   ]
  },
  {
   "cell_type": "code",
   "execution_count": 21,
   "metadata": {},
   "outputs": [
    {
     "data": {
      "text/html": [
       "<div>\n",
       "<style scoped>\n",
       "    .dataframe tbody tr th:only-of-type {\n",
       "        vertical-align: middle;\n",
       "    }\n",
       "\n",
       "    .dataframe tbody tr th {\n",
       "        vertical-align: top;\n",
       "    }\n",
       "\n",
       "    .dataframe thead th {\n",
       "        text-align: right;\n",
       "    }\n",
       "</style>\n",
       "<table border=\"1\" class=\"dataframe\">\n",
       "  <thead>\n",
       "    <tr style=\"text-align: right;\">\n",
       "      <th></th>\n",
       "      <th>feature_191</th>\n",
       "      <th>feature_192</th>\n",
       "      <th>feature_199</th>\n",
       "      <th>feature_200</th>\n",
       "      <th>feature_201</th>\n",
       "    </tr>\n",
       "  </thead>\n",
       "  <tbody>\n",
       "    <tr>\n",
       "      <th>0</th>\n",
       "      <td>2017-11-10</td>\n",
       "      <td>2017-11-10</td>\n",
       "      <td>2017-11-10</td>\n",
       "      <td>2016-01-17</td>\n",
       "      <td>2017-11-10</td>\n",
       "    </tr>\n",
       "    <tr>\n",
       "      <th>1</th>\n",
       "      <td>2015-03-25</td>\n",
       "      <td>2015-03-25</td>\n",
       "      <td>2017-02-04</td>\n",
       "      <td>2015-03-25</td>\n",
       "      <td>2015-03-25</td>\n",
       "    </tr>\n",
       "    <tr>\n",
       "      <th>2</th>\n",
       "      <td>2015-01-27</td>\n",
       "      <td>2015-01-27</td>\n",
       "      <td>2016-03-24</td>\n",
       "      <td>2015-01-27</td>\n",
       "      <td>2015-01-27</td>\n",
       "    </tr>\n",
       "    <tr>\n",
       "      <th>3</th>\n",
       "      <td>2014-05-02</td>\n",
       "      <td>2014-01-04</td>\n",
       "      <td>2014-01-04</td>\n",
       "      <td>2014-01-04</td>\n",
       "      <td>2014-01-04</td>\n",
       "    </tr>\n",
       "    <tr>\n",
       "      <th>4</th>\n",
       "      <td>2009-07-20</td>\n",
       "      <td>2013-10-09</td>\n",
       "      <td>2013-10-09</td>\n",
       "      <td>2016-01-24</td>\n",
       "      <td>2013-10-09</td>\n",
       "    </tr>\n",
       "    <tr>\n",
       "      <th>...</th>\n",
       "      <td>...</td>\n",
       "      <td>...</td>\n",
       "      <td>...</td>\n",
       "      <td>...</td>\n",
       "      <td>...</td>\n",
       "    </tr>\n",
       "    <tr>\n",
       "      <th>69995</th>\n",
       "      <td>2010-09-27</td>\n",
       "      <td>2014-01-02</td>\n",
       "      <td>2014-01-02</td>\n",
       "      <td>2014-02-14</td>\n",
       "      <td>2014-01-02</td>\n",
       "    </tr>\n",
       "    <tr>\n",
       "      <th>69996</th>\n",
       "      <td>2016-09-19</td>\n",
       "      <td>2016-09-19</td>\n",
       "      <td>2016-09-19</td>\n",
       "      <td>2016-09-19</td>\n",
       "      <td>2016-09-19</td>\n",
       "    </tr>\n",
       "    <tr>\n",
       "      <th>69997</th>\n",
       "      <td>2005-09-14</td>\n",
       "      <td>2015-07-25</td>\n",
       "      <td>2015-07-25</td>\n",
       "      <td>2016-09-04</td>\n",
       "      <td>2015-07-25</td>\n",
       "    </tr>\n",
       "    <tr>\n",
       "      <th>69998</th>\n",
       "      <td>2017-11-29</td>\n",
       "      <td>2017-11-29</td>\n",
       "      <td>2017-11-29</td>\n",
       "      <td>2016-01-17</td>\n",
       "      <td>2017-11-29</td>\n",
       "    </tr>\n",
       "    <tr>\n",
       "      <th>69999</th>\n",
       "      <td>2018-01-23</td>\n",
       "      <td>2018-01-23</td>\n",
       "      <td>2018-01-23</td>\n",
       "      <td>2016-01-17</td>\n",
       "      <td>2018-01-23</td>\n",
       "    </tr>\n",
       "  </tbody>\n",
       "</table>\n",
       "<p>70000 rows × 5 columns</p>\n",
       "</div>"
      ],
      "text/plain": [
       "      feature_191 feature_192 feature_199 feature_200 feature_201\n",
       "0      2017-11-10  2017-11-10  2017-11-10  2016-01-17  2017-11-10\n",
       "1      2015-03-25  2015-03-25  2017-02-04  2015-03-25  2015-03-25\n",
       "2      2015-01-27  2015-01-27  2016-03-24  2015-01-27  2015-01-27\n",
       "3      2014-05-02  2014-01-04  2014-01-04  2014-01-04  2014-01-04\n",
       "4      2009-07-20  2013-10-09  2013-10-09  2016-01-24  2013-10-09\n",
       "...           ...         ...         ...         ...         ...\n",
       "69995  2010-09-27  2014-01-02  2014-01-02  2014-02-14  2014-01-02\n",
       "69996  2016-09-19  2016-09-19  2016-09-19  2016-09-19  2016-09-19\n",
       "69997  2005-09-14  2015-07-25  2015-07-25  2016-09-04  2015-07-25\n",
       "69998  2017-11-29  2017-11-29  2017-11-29  2016-01-17  2017-11-29\n",
       "69999  2018-01-23  2018-01-23  2018-01-23  2016-01-17  2018-01-23\n",
       "\n",
       "[70000 rows x 5 columns]"
      ]
     },
     "execution_count": 21,
     "metadata": {},
     "output_type": "execute_result"
    }
   ],
   "source": [
    "# Change these columns to Datetime\n",
    "train_df[date_Features.columns] = train_df[date_Features.columns].apply(pd.to_datetime,dayfirst = False)\n",
    "test_df[date_Features.columns] = test_df[date_Features.columns].apply(pd.to_datetime,dayfirst = False)\n",
    "\n",
    "#Show date columns\n",
    "shw_dateCol = train_df[train_df.columns[train_df.dtypes =='datetime64[ns]']]\n",
    "shw_dateCol"
   ]
  },
  {
   "cell_type": "code",
   "execution_count": 22,
   "metadata": {},
   "outputs": [],
   "source": [
    "# Extracting Year from date Using DatetimeIndex\n",
    "for col in shw_dateCol.columns:\n",
    "    train_df[col+\"_year\"]=pd.DatetimeIndex(train_df[col]).year\n",
    "    test_df[col+\"_year\"]=pd.DatetimeIndex(test_df[col]).year\n"
   ]
  },
  {
   "cell_type": "code",
   "execution_count": 23,
   "metadata": {},
   "outputs": [],
   "source": [
    "# Drop Date Features since we will only consider the Year\n",
    "train_df.drop(list(shw_dateCol.columns),axis=1,inplace=True)\n",
    "test_df.drop(list(shw_dateCol.columns),axis=1,inplace=True)"
   ]
  },
  {
   "cell_type": "code",
   "execution_count": 24,
   "metadata": {},
   "outputs": [],
   "source": [
    "#Update Categorical_Features list\n",
    "Cat_Features = [i for i in Cat_Features if i not in shw_dateCol.columns]"
   ]
  },
  {
   "cell_type": "markdown",
   "metadata": {},
   "source": [
    "# Handeling Categorical Features"
   ]
  },
  {
   "cell_type": "code",
   "execution_count": 25,
   "metadata": {},
   "outputs": [],
   "source": [
    "# Creating Copy of data\n",
    "train_c = train_df.copy()\n",
    "test_c = test_df.copy()"
   ]
  },
  {
   "cell_type": "code",
   "execution_count": 26,
   "metadata": {},
   "outputs": [
    {
     "data": {
      "text/html": [
       "<div>\n",
       "<style scoped>\n",
       "    .dataframe tbody tr th:only-of-type {\n",
       "        vertical-align: middle;\n",
       "    }\n",
       "\n",
       "    .dataframe tbody tr th {\n",
       "        vertical-align: top;\n",
       "    }\n",
       "\n",
       "    .dataframe thead th {\n",
       "        text-align: right;\n",
       "    }\n",
       "</style>\n",
       "<table border=\"1\" class=\"dataframe\">\n",
       "  <thead>\n",
       "    <tr style=\"text-align: right;\">\n",
       "      <th></th>\n",
       "      <th>Features</th>\n",
       "      <th>Cardinality</th>\n",
       "    </tr>\n",
       "  </thead>\n",
       "  <tbody>\n",
       "    <tr>\n",
       "      <th>7</th>\n",
       "      <td>feature_18</td>\n",
       "      <td>15858</td>\n",
       "    </tr>\n",
       "    <tr>\n",
       "      <th>28</th>\n",
       "      <td>feature_133</td>\n",
       "      <td>7126</td>\n",
       "    </tr>\n",
       "    <tr>\n",
       "      <th>9</th>\n",
       "      <td>feature_20</td>\n",
       "      <td>5841</td>\n",
       "    </tr>\n",
       "    <tr>\n",
       "      <th>11</th>\n",
       "      <td>feature_22</td>\n",
       "      <td>2339</td>\n",
       "    </tr>\n",
       "    <tr>\n",
       "      <th>10</th>\n",
       "      <td>feature_21</td>\n",
       "      <td>2327</td>\n",
       "    </tr>\n",
       "    <tr>\n",
       "      <th>8</th>\n",
       "      <td>feature_19</td>\n",
       "      <td>260</td>\n",
       "    </tr>\n",
       "    <tr>\n",
       "      <th>24</th>\n",
       "      <td>feature_54</td>\n",
       "      <td>260</td>\n",
       "    </tr>\n",
       "    <tr>\n",
       "      <th>35</th>\n",
       "      <td>feature_185</td>\n",
       "      <td>255</td>\n",
       "    </tr>\n",
       "    <tr>\n",
       "      <th>48</th>\n",
       "      <td>feature_246</td>\n",
       "      <td>147</td>\n",
       "    </tr>\n",
       "    <tr>\n",
       "      <th>63</th>\n",
       "      <td>feature_279</td>\n",
       "      <td>136</td>\n",
       "    </tr>\n",
       "  </tbody>\n",
       "</table>\n",
       "</div>"
      ],
      "text/plain": [
       "       Features  Cardinality\n",
       "7    feature_18        15858\n",
       "28  feature_133         7126\n",
       "9    feature_20         5841\n",
       "11   feature_22         2339\n",
       "10   feature_21         2327\n",
       "8    feature_19          260\n",
       "24   feature_54          260\n",
       "35  feature_185          255\n",
       "48  feature_246          147\n",
       "63  feature_279          136"
      ]
     },
     "execution_count": 26,
     "metadata": {},
     "output_type": "execute_result"
    }
   ],
   "source": [
    "# Unique values for each Categorical Feature\n",
    "def get_cardinality(df,otype):\n",
    "    tmp=[]\n",
    "    for col in otype:\n",
    "        tmp.append( df[col].nunique() )\n",
    "\n",
    "    cardinality = pd.DataFrame({'Features':otype,'Cardinality':tmp})\n",
    "    return cardinality.sort_values(by='Cardinality',ascending=False)\n",
    "\n",
    "# Categorical Features Sorted by cardinality \n",
    "cat_cardinality = get_cardinality(train_c,Cat_Features).head(10)\n",
    "cat_cardinality"
   ]
  },
  {
   "cell_type": "code",
   "execution_count": 27,
   "metadata": {},
   "outputs": [
    {
     "name": "stdout",
     "output_type": "stream",
     "text": [
      "7181\n",
      "4916\n"
     ]
    }
   ],
   "source": [
    "# Checking for values that has only one count\n",
    "print(train_c['feature_18'].value_counts()[train_c['feature_18'].value_counts()<2].count())\n",
    "print(train_c['feature_133'].value_counts()[train_c['feature_133'].value_counts()<2].count())"
   ]
  },
  {
   "cell_type": "markdown",
   "metadata": {},
   "source": [
    "There are 7181 unique values out of 15858 that come up only once in the entire dataset for 'feature_18'.\n",
    "\n",
    "There are 4916 unique values out of 7126 that come up only once in the entire dataset for 'feature_133'.\n",
    "\n",
    "We need to reduce the cardinality of the Categorical variables. We will replace the value which comes only once as \"other\"."
   ]
  },
  {
   "cell_type": "code",
   "execution_count": 28,
   "metadata": {},
   "outputs": [],
   "source": [
    "# Replacing value which comes only once to \"other\"\n",
    "for col in list(cat_cardinality.Features):\n",
    "    tmp = list(train_c[col].value_counts()[train_c[col].value_counts()<2].index)\n",
    "    train_c[col] = train_c[col].apply(lambda i:'other' if i in tmp else i)\n",
    "\n",
    "# Repeating the same step for test data\n",
    "for col in list(cat_cardinality.Features):\n",
    "    tmp = list(test_c[col].value_counts()[test_c[col].value_counts()<2].index)\n",
    "    test_c[col] = test_c[col].apply(lambda i:'other' if i in tmp else i)"
   ]
  },
  {
   "cell_type": "markdown",
   "metadata": {},
   "source": [
    " Chi-Square Hypotheis Test for Indepence for Categorical Features\n",
    "\n",
    "- p-value = 0.05\n",
    "\n",
    "- Null Hypothesis (Ho): The 'Target' Variable is independent on the Cat_Features\n",
    "\n",
    "- Alternate Hypothesis (Ha): The 'Target' Variable is dependent on the Cat_Features"
   ]
  },
  {
   "cell_type": "code",
   "execution_count": 29,
   "metadata": {},
   "outputs": [
    {
     "data": {
      "text/html": [
       "<div>\n",
       "<style scoped>\n",
       "    .dataframe tbody tr th:only-of-type {\n",
       "        vertical-align: middle;\n",
       "    }\n",
       "\n",
       "    .dataframe tbody tr th {\n",
       "        vertical-align: top;\n",
       "    }\n",
       "\n",
       "    .dataframe thead th {\n",
       "        text-align: right;\n",
       "    }\n",
       "</style>\n",
       "<table border=\"1\" class=\"dataframe\">\n",
       "  <thead>\n",
       "    <tr style=\"text-align: right;\">\n",
       "      <th></th>\n",
       "      <th>Column</th>\n",
       "      <th>HypotheisisResult</th>\n",
       "    </tr>\n",
       "  </thead>\n",
       "  <tbody>\n",
       "    <tr>\n",
       "      <th>0</th>\n",
       "      <td>feature_0</td>\n",
       "      <td>Fail to Reject Null Hypothesis</td>\n",
       "    </tr>\n",
       "    <tr>\n",
       "      <th>1</th>\n",
       "      <td>feature_1</td>\n",
       "      <td>Fail to Reject Null Hypothesis</td>\n",
       "    </tr>\n",
       "    <tr>\n",
       "      <th>2</th>\n",
       "      <td>feature_2</td>\n",
       "      <td>Reject Null Hypothesis</td>\n",
       "    </tr>\n",
       "    <tr>\n",
       "      <th>3</th>\n",
       "      <td>feature_3</td>\n",
       "      <td>Reject Null Hypothesis</td>\n",
       "    </tr>\n",
       "    <tr>\n",
       "      <th>4</th>\n",
       "      <td>feature_4</td>\n",
       "      <td>Reject Null Hypothesis</td>\n",
       "    </tr>\n",
       "    <tr>\n",
       "      <th>...</th>\n",
       "      <td>...</td>\n",
       "      <td>...</td>\n",
       "    </tr>\n",
       "    <tr>\n",
       "      <th>77</th>\n",
       "      <td>feature_293</td>\n",
       "      <td>Reject Null Hypothesis</td>\n",
       "    </tr>\n",
       "    <tr>\n",
       "      <th>78</th>\n",
       "      <td>feature_336</td>\n",
       "      <td>Reject Null Hypothesis</td>\n",
       "    </tr>\n",
       "    <tr>\n",
       "      <th>79</th>\n",
       "      <td>feature_337</td>\n",
       "      <td>Fail to Reject Null Hypothesis</td>\n",
       "    </tr>\n",
       "    <tr>\n",
       "      <th>80</th>\n",
       "      <td>feature_338</td>\n",
       "      <td>Fail to Reject Null Hypothesis</td>\n",
       "    </tr>\n",
       "    <tr>\n",
       "      <th>81</th>\n",
       "      <td>feature_371</td>\n",
       "      <td>Reject Null Hypothesis</td>\n",
       "    </tr>\n",
       "  </tbody>\n",
       "</table>\n",
       "<p>82 rows × 2 columns</p>\n",
       "</div>"
      ],
      "text/plain": [
       "         Column               HypotheisisResult\n",
       "0     feature_0  Fail to Reject Null Hypothesis\n",
       "1     feature_1  Fail to Reject Null Hypothesis\n",
       "2     feature_2          Reject Null Hypothesis\n",
       "3     feature_3          Reject Null Hypothesis\n",
       "4     feature_4          Reject Null Hypothesis\n",
       "..          ...                             ...\n",
       "77  feature_293          Reject Null Hypothesis\n",
       "78  feature_336          Reject Null Hypothesis\n",
       "79  feature_337  Fail to Reject Null Hypothesis\n",
       "80  feature_338  Fail to Reject Null Hypothesis\n",
       "81  feature_371          Reject Null Hypothesis\n",
       "\n",
       "[82 rows x 2 columns]"
      ]
     },
     "execution_count": 29,
     "metadata": {},
     "output_type": "execute_result"
    }
   ],
   "source": [
    "# Importing chi-square\n",
    "from scipy.stats import chi2_contingency\n",
    "\n",
    "chi2_result = []\n",
    "for i in Cat_Features:\n",
    "    if chi2_contingency(pd.crosstab(train_df['target'],train_df[i]))[1] < 0.05:\n",
    "        chi2_result.append('Reject Null Hypothesis')\n",
    "    else:\n",
    "        chi2_result.append('Fail to Reject Null Hypothesis')\n",
    "        \n",
    "result = pd.DataFrame({'Column':Cat_Features, 'HypotheisisResult': chi2_result})\n",
    "result"
   ]
  },
  {
   "cell_type": "markdown",
   "metadata": {},
   "source": [
    "We will drop the features to drop list which is \"Fail to Reject Null Hypothesis\""
   ]
  },
  {
   "cell_type": "code",
   "execution_count": null,
   "metadata": {},
   "outputs": [],
   "source": [
    "# Adding the features to drop list - Unwanted_Cat_Features\n",
    "Unwanted_Cat_Features = result[result.HypotheisisResult == 'Fail to Reject Null Hypothesis'].Column.values\n",
    "\n",
    "#Creating a drop list\n",
    "Features_toDrop=[]\n",
    "Features_toDrop += list(Unwanted_Cat_Features)\n",
    "print('Number of Categorical variables that are not dependent on variable target = ',len(Unwanted_Cat_Features))"
   ]
  },
  {
   "cell_type": "markdown",
   "metadata": {},
   "source": [
    "# Handeling Numeric Features"
   ]
  },
  {
   "cell_type": "markdown",
   "metadata": {},
   "source": [
    "Correlations between numeric columns and target"
   ]
  },
  {
   "cell_type": "code",
   "execution_count": null,
   "metadata": {},
   "outputs": [],
   "source": [
    "corr_df=train_c.drop(['target'],axis=1).corrwith(train_c['target']).abs().sort_values(ascending=False)\n",
    "corr_df"
   ]
  },
  {
   "cell_type": "code",
   "execution_count": null,
   "metadata": {},
   "outputs": [],
   "source": [
    "# Distribution of numeric features in terms of correlation\n",
    "plt.figure(figsize=(10,5))\n",
    "plt.xlabel('Correlation with target')\n",
    "plt.ylabel('The number of numeric features')\n",
    "sns.histplot(corr_df).set_title('Distribution of numeric features in terms of correlation with the target',size=15)\n",
    "plt.show()"
   ]
  },
  {
   "cell_type": "code",
   "execution_count": null,
   "metadata": {},
   "outputs": [],
   "source": [
    "#Plot features which have more than 0.08 correlation with the target (sorted)\n",
    "plt.figure(figsize=(10,10))\n",
    "sns.barplot(x=corr_df[corr_df>0.08],y=corr_df[corr_df>0.08].index).set_title('Correlation between numeric features and target')\n",
    "plt.xlabel('Correlation')"
   ]
  },
  {
   "cell_type": "markdown",
   "metadata": {},
   "source": [
    "feature_307 is the only feature with correlation coefficient value greater than 0.3 and it\n",
    "is binary just like the 'target' column."
   ]
  },
  {
   "cell_type": "code",
   "execution_count": null,
   "metadata": {},
   "outputs": [],
   "source": [
    "# Listing top 12 features \n",
    "corr_df[corr_df>0.08].head(12).sort_values(ascending=False)"
   ]
  },
  {
   "cell_type": "code",
   "execution_count": null,
   "metadata": {},
   "outputs": [],
   "source": [
    "# Ploting top 10 features \n",
    "fig, ax = plt.subplots(3,3,figsize=(17,12))\n",
    "sns.histplot(train_c.feature_81, ax=ax[0][0])\n",
    "sns.histplot(train_c.feature_82, ax=ax[0][1])\n",
    "sns.countplot(train_c.feature_307,hue=train_c.target, ax=ax[0][2])\n",
    "sns.countplot(train_c.feature_297,hue=train_c.target, ax=ax[1][0])\n",
    "sns.countplot(train_c.feature_108,hue=train_c.target, ax=ax[1][1])\n",
    "sns.countplot(train_c.feature_110,hue=train_c.target, ax=ax[1][2])\n",
    "sns.countplot(train_c.feature_470,hue=train_c.target, ax=ax[2][0])\n",
    "sns.countplot(train_c.feature_264,hue=train_c.target, ax=ax[2][1])\n",
    "sns.countplot(train_c.feature_263,hue=train_c.target, ax=ax[2][2])\n",
    "plt.suptitle('Important numeric features')\n",
    "plt.show()"
   ]
  },
  {
   "cell_type": "markdown",
   "metadata": {},
   "source": [
    "Adding New Feature"
   ]
  },
  {
   "cell_type": "code",
   "execution_count": 48,
   "metadata": {},
   "outputs": [],
   "source": [
    "#Binarization feature_82\n",
    "train_c['feature_82_binary']= train_c['feature_82'].apply(lambda x: 0 if x==0 else 1)\n",
    "test_c['feature_82_binary']= test_c['feature_82'].apply(lambda x: 0 if x==0 else 1)"
   ]
  },
  {
   "cell_type": "code",
   "execution_count": 49,
   "metadata": {},
   "outputs": [],
   "source": [
    "#Taking sqrt of feature_81\n",
    "train_c['feature_81_sqrt']= train_c.feature_81.apply(np.sqrt)\n",
    "test_c['feature_81_sqrt']= test_c.feature_81.apply(np.sqrt)"
   ]
  },
  {
   "cell_type": "code",
   "execution_count": 50,
   "metadata": {},
   "outputs": [],
   "source": [
    "#Multiplication of feature_307 and feature_82_binary\n",
    "train_c['feature_82_307']= train_c['feature_307']*train_c['feature_82_binary']\n",
    "test_c['feature_82_307']= test_c['feature_307']*test_c['feature_82_binary']"
   ]
  },
  {
   "cell_type": "markdown",
   "metadata": {},
   "source": [
    "Adding features to drop list that have insignificant correlation with 'target' variable"
   ]
  },
  {
   "cell_type": "code",
   "execution_count": 51,
   "metadata": {},
   "outputs": [
    {
     "name": "stdout",
     "output_type": "stream",
     "text": [
      "28  features added to drop list\n"
     ]
    }
   ],
   "source": [
    "#Corr less than 0.002 with target\n",
    "corr_low=list(corr_df[corr_df<0.002].index)\n",
    "\n",
    "#Add to drop list\n",
    "Features_toDrop+=corr_low\n",
    "print(len(corr_low),' features added to drop list')"
   ]
  },
  {
   "cell_type": "markdown",
   "metadata": {},
   "source": [
    "Adding Features with one value to drop list"
   ]
  },
  {
   "cell_type": "code",
   "execution_count": 53,
   "metadata": {},
   "outputs": [
    {
     "name": "stdout",
     "output_type": "stream",
     "text": [
      "59  features added to drop list\n"
     ]
    }
   ],
   "source": [
    "# Find columns with one value\n",
    "Col_with_OneValue=[]\n",
    "for col in train_c.columns:\n",
    "    if (( train_c[col].nunique() <=1 )):\n",
    "        Col_with_OneValue.append(col)\n",
    "train_c[Col_with_OneValue]\n",
    "\n",
    "#Add to drop list\n",
    "Features_toDrop +=list(Col_with_OneValue)\n",
    "print(len(Col_with_OneValue),' features added to drop list')"
   ]
  },
  {
   "cell_type": "markdown",
   "metadata": {},
   "source": [
    "Finding Correlation between num columns"
   ]
  },
  {
   "cell_type": "code",
   "execution_count": 87,
   "metadata": {},
   "outputs": [],
   "source": [
    "get_corr_df = train_c[Num_Features].corr()\n",
    "get_corr_df = get_corr_df[get_corr_df > 0.9]\n"
   ]
  },
  {
   "cell_type": "code",
   "execution_count": null,
   "metadata": {},
   "outputs": [],
   "source": [
    "get_corr_df.count"
   ]
  },
  {
   "cell_type": "markdown",
   "metadata": {},
   "source": [
    "There are columns with corr >0.9 "
   ]
  },
  {
   "cell_type": "code",
   "execution_count": null,
   "metadata": {},
   "outputs": [],
   "source": [
    "# Getting features that have corr >= 0.9\n",
    "corr_features = np.where(np.abs(get_corr_df) > 0.9)\n",
    "\n",
    "# To remove self corr of feature and avoiding duplication\n",
    "corr_features = [(get_corr_df.iloc[x,y], x, y) for x, y in zip(*corr_features) if x != y and x < y]\n",
    "\n",
    "# Looping through array to create df\n",
    "p,q,r = list(),list(),list()\n",
    "for x,y,z in corr_features:\n",
    "    p.append(get_corr_df.index[y])\n",
    "    q.append(get_corr_df.columns[z])\n",
    "    r.append(x)\n",
    "corr_arr = pd.DataFrame([p,q,r], index=['C1', 'C2', 'Corr']).T\n",
    "corr_arr"
   ]
  },
  {
   "cell_type": "markdown",
   "metadata": {},
   "source": [
    "We will drop one column from the pair to avoid multicolinearity"
   ]
  },
  {
   "cell_type": "code",
   "execution_count": 104,
   "metadata": {},
   "outputs": [
    {
     "name": "stdout",
     "output_type": "stream",
     "text": [
      "188  features added to drop list\n"
     ]
    }
   ],
   "source": [
    "high_corr_mul_drop = list( set(corr_arr.C1[corr_arr.Corr > 0.9])) +  list(set(corr_arr.C1[corr_arr.Corr <-0.9]))\n",
    "Features_toDrop += high_corr_mul_drop\n",
    "print(len(high_corr_mul_drop),' features added to drop list')\n"
   ]
  },
  {
   "cell_type": "markdown",
   "metadata": {},
   "source": [
    "# Dropping the unnecessary features"
   ]
  },
  {
   "cell_type": "code",
   "execution_count": null,
   "metadata": {},
   "outputs": [],
   "source": [
    "Features_toDrop=list(set(Features_toDrop))\n",
    "\n",
    "train_c.drop(Features_toDrop,axis=1,inplace=True)\n",
    "test_c.drop(Features_toDrop,axis=1,inplace=True)\n",
    "\n",
    "print(len(Features_toDrop),' Features dropped')\n",
    "print(train_c.shape) \n",
    "print(test_c.shape)"
   ]
  },
  {
   "cell_type": "markdown",
   "metadata": {},
   "source": [
    "# Encoding Cat_Features"
   ]
  },
  {
   "cell_type": "code",
   "execution_count": 116,
   "metadata": {},
   "outputs": [],
   "source": [
    "#Create copy\n",
    "train_m = train_c.copy()\n",
    "test_m = test_c.copy()\n",
    "\n",
    "#Remove dropped Columns from Cat_Features list\n",
    "Cat_Features = [i for i in Cat_Features\n",
    "                        if i not in Features_toDrop]\n",
    "\n",
    "# Encoding categorical features\n",
    "for i in list(Cat_Features):\n",
    "    Lab_En = LabelEncoder()\n",
    "    Lab_En.fit(pd.concat([train_m[i],test_m[i]], ignore_index=True))\n",
    "\n",
    "    # Transform \n",
    "    train_m[i] = Lab_En.transform(train_m[i])\n",
    "    test_m[i] = Lab_En.transform(test_m[i])"
   ]
  },
  {
   "cell_type": "markdown",
   "metadata": {},
   "source": [
    "# ** WORK IN PROGRESS **"
   ]
  },
  {
   "cell_type": "markdown",
   "metadata": {},
   "source": [
    "## Resources:\n",
    "\n",
    "- The Confusionj Matrix: https://www.youtube.com/watch?v=Kdsp6soqA7o\n",
    "- ROC and AUC: https://www.youtube.com/watch?v=4jRBRDbJemM\n",
    "- Chi Square: https://www.jmp.com/en_be/statistics-knowledge-portal/chi-square-test.html\n",
    "- Chi Square: https://www.analyticsvidhya.com/blog/2019/11/what-is-chi-square-test-how-it-works/"
   ]
  }
 ],
 "metadata": {
  "interpreter": {
   "hash": "254e17d4be08a24f978ade82290d93b3107a00fee441fe8b2dcb1436d2542d70"
  },
  "kernelspec": {
   "display_name": "Python 3.9.7 ('base')",
   "language": "python",
   "name": "python3"
  },
  "language_info": {
   "codemirror_mode": {
    "name": "ipython",
    "version": 3
   },
   "file_extension": ".py",
   "mimetype": "text/x-python",
   "name": "python",
   "nbconvert_exporter": "python",
   "pygments_lexer": "ipython3",
   "version": "3.9.7"
  },
  "orig_nbformat": 4
 },
 "nbformat": 4,
 "nbformat_minor": 2
}
